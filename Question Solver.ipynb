{
 "cells": [
  {
   "cell_type": "markdown",
   "id": "fe12c203-e6a6-452c-a655-afb8a03a4ff5",
   "metadata": {},
   "source": [
    "# Question solver"
   ]
  },
  {
   "cell_type": "code",
   "execution_count": 15,
   "id": "c1070317-3ed9-4659-abe3-828943230e03",
   "metadata": {},
   "outputs": [],
   "source": [
    "# imports\n",
    "# imports\n",
    "\n",
    "from dotenv import load_dotenv\n",
    "from IPython.display import Markdown, display, update_display\n",
    "from openai import OpenAI\n",
    "import ollama"
   ]
  },
  {
   "cell_type": "code",
   "execution_count": 22,
   "id": "4a456906-915a-4bfd-bb9d-57e505c5093f",
   "metadata": {},
   "outputs": [],
   "source": [
    "# constants\n",
    "MODEL_LLAMA = 'gpt-oss:20b'"
   ]
  },
  {
   "cell_type": "code",
   "execution_count": 23,
   "id": "a8d7923c-5f28-4c30-8556-342d7c8497c1",
   "metadata": {},
   "outputs": [
    {
     "name": "stdout",
     "output_type": "stream",
     "text": [
      "2 + 2 = 4.\n"
     ]
    }
   ],
   "source": [
    "from openai import OpenAI\n",
    "MODEL = \"gpt-oss:20b\"\n",
    "openai = OpenAI(base_url=\"http://localhost:11434/v1\", api_key=\"ollama\")\n",
    "\n",
    "response = openai.chat.completions.create(\n",
    " model=MODEL,\n",
    " messages=[{\"role\": \"user\", \"content\": \"What is 2 + 2?\"}]\n",
    ")\n",
    "\n",
    "print(response.choices[0].message.content)"
   ]
  },
  {
   "cell_type": "code",
   "execution_count": 24,
   "id": "3f0d0137-52b0-47a8-81a8-11a90a010798",
   "metadata": {},
   "outputs": [],
   "source": [
    "# here is the question; type over this to ask something new\n",
    "\n",
    "question = \"\"\"\n",
    "Please explain what this code does and why:\n",
    "yield from {book.get(\"author\") for book in books if book.get(\"author\")}\n",
    "\"\"\""
   ]
  },
  {
   "cell_type": "code",
   "execution_count": 25,
   "id": "27dffc5d-8d5b-41b4-8479-7eb0e8c9118c",
   "metadata": {},
   "outputs": [],
   "source": [
    "# prompts\n",
    "\n",
    "system_prompt = \"You are a helpful technical tutor who answers questions about python code, software engineering, data science and LLMs\"\n",
    "user_prompt = \"Please give a detailed explanation to the following question: \" + question"
   ]
  },
  {
   "cell_type": "code",
   "execution_count": 26,
   "id": "42befffb-edb7-4fe2-932f-1124e0b9dad2",
   "metadata": {},
   "outputs": [],
   "source": [
    "# messages\n",
    "\n",
    "messages = [\n",
    "    {\"role\": \"system\", \"content\": system_prompt},\n",
    "    {\"role\": \"user\", \"content\": user_prompt}\n",
    "]"
   ]
  },
  {
   "cell_type": "code",
   "execution_count": 27,
   "id": "1d2df267-b290-4b4c-b8d1-f4bf44765dd8",
   "metadata": {},
   "outputs": [
    {
     "data": {
      "text/markdown": [
       "### What the line actually does\n",
       "\n",
       "python\n",
       "yield from {book.get(\"author\") for book in books if book.get(\"author\")}\n",
       "\n",
       "\n",
       "This line is usually written **inside a generator function** (a function that contains at least one `yield`).  \n",
       "It consists of three logical parts:\n",
       "\n",
       "| Part | Description | Example |\n",
       "|------|-------------|---------|\n",
       "| `{ ... }` | **Set comprehension** – constructs a `set` containing the values that come from the expressions inside the braces. | `{1, 2, 3}` |\n",
       "| `book.get(\"author\") for book in books if book.get(\"author\")` | **Iterates over `books`** (which is expected to be an iterable of dictionaries). For each dictionary `book`, it looks up the value for the key `'author'`. The `if book.get(\"author\")` clause filters out cases where that value is *falsy* (`None`, `''`, `0`, etc.). | If `books = [{'author': 'A'}, {'author': None}, {'author': 'B'}]` → the comprehension evaluates to `{'A', 'B'}`. |\n",
       "| `yield from ...` | **Delegating yield** – tells the current generator to *yield* every value produced by the supplied iterable. In other words, it “drains” the iterable into the caller of the generator. | If the set is `{ 'A', 'B' }`, the generator will yield `'A'` and then `'B'` (order is arbitrary because a set has no defined order). |\n",
       "\n",
       "So the whole line can be read as:\n",
       "\n",
       "> *“Create a set of all non‑empty author names found in `books`, then yield each of those names one by one.”*\n",
       "\n",
       "---\n",
       "\n",
       "### Why use a **set** here?\n",
       "\n",
       "1. **Uniqueness** – A set automatically removes duplicate values. If two books list the same author, the author will still appear only once in the yielded sequence.  \n",
       "   python\n",
       "   books = [{'author':'A'}, {'author':'A'}, {'author':'B'}]\n",
       "   # set comprehension → {'A', 'B'}\n",
       "   \n",
       "\n",
       "2. **Performance** – Construction of a set and membership checks are `O(1)` on average, so for large lists of books the set comprehension is efficient.\n",
       "\n",
       "---\n",
       "\n",
       "### Why use `yield from` instead of a simple `for` loop?\n",
       "\n",
       "`yield from` is a concise way to delegate the yielding of all items in an iterator to the calling code. It is semantically equivalent to:\n",
       "\n",
       "python\n",
       "for author in {book.get(\"author\") for book in books if book.get(\"author\") }:\n",
       "    yield author\n",
       "\n",
       "\n",
       "But `yield from` offers:\n",
       "\n",
       "- **Cleaner syntax** – One line instead of a loop.\n",
       "- **Proper delegation** – If the inner iterable returns a value with `return` (rare, but possible with custom iterators), that value would be returned by `yield from`. Sets don’t return a value, so it doesn’t matter here.\n",
       "\n",
       "---\n",
       "\n",
       "### Practical example\n",
       "\n",
       "python\n",
       "def unique_authors(books):\n",
       "    yield from {book.get(\"author\") for book in books if book.get(\"author\")}\n",
       "\n",
       "books = [\n",
       "    {'title': 'Book 1', 'author': 'Alice'},\n",
       "    {'title': 'Book 2'},                      # No author\n",
       "    {'title': 'Book 3', 'author': 'Bob'},\n",
       "    {'title': 'Book 4', 'author': 'Alice'},   # Duplicate\n",
       "]\n",
       "\n",
       "for author in unique_authors(books):\n",
       "    print(author)\n",
       "\n",
       "\n",
       "Possible output (order unspecified):\n",
       "\n",
       "\n",
       "Alice\n",
       "Bob\n",
       "\n",
       "\n",
       "---\n",
       "\n",
       "### Edge cases & pitfalls\n",
       "\n",
       "| Issue | How it manifests | Mitigation |\n",
       "|-------|------------------|------------|\n",
       "| **Empty or missing author** | `book.get(\"author\")` returns `None` or `''`, which are filtered out. | Nothing needed – the `if` clause does the job. |\n",
       "| **Different truthy values** | If an author name is `'0'` or `'False'`, it would be considered falsy and removed. | Rare; if you truly need those values, replace the filter with `if book.get(\"author\") is not None`. |\n",
       "| **Large data sets** | Converting the whole list to a set first may use more memory than iterating lazily. | Use a generator expression inside `yield from`:\n",
       "\n",
       "python\n",
       "yield from (book[\"author\"] for book in books if \"author\" in book)\n",
       "\n",
       "\n",
       "but note that duplicates will be preserved unless you manage uniqueness yourself. |\n",
       "| **Order matters (rare)** | A set has no guaranteed order; the yielded authors can appear in any order. | Use `sorted` or keep a `list` if the order matters. |\n",
       "\n",
       "---\n",
       "\n",
       "### Bottom line\n",
       "\n",
       "The one‑liner\n",
       "\n",
       "python\n",
       "yield from {book.get(\"author\") for book in books if book.get(\"author\")}\n",
       "\n",
       "\n",
       "is a very compact way of:\n",
       "\n",
       "1. Building a **unique, non‑empty set** of authors from a collection of book dictionaries.\n",
       "2. **Yielding** each author from that set to the caller of the generator.\n",
       "\n",
       "It is both concise and readable for people familiar with set comprehensions and generator delegation. If you need the same logic but with guaranteed order or with a different data‑source, you can adapt the comprehension or replace `yield from` with an explicit loop."
      ],
      "text/plain": [
       "<IPython.core.display.Markdown object>"
      ]
     },
     "metadata": {},
     "output_type": "display_data"
    }
   ],
   "source": [
    "# Get gpt-4o-mini to answer, with streaming\n",
    "\n",
    "stream = openai.chat.completions.create(model=MODEL_LLAMA, messages=messages,stream=True)\n",
    "    \n",
    "response = \"\"\n",
    "display_handle = display(Markdown(\"\"), display_id=True)\n",
    "for chunk in stream:\n",
    "    response += chunk.choices[0].delta.content or ''\n",
    "    response = response.replace(\"```\",\"\").replace(\"markdown\", \"\")\n",
    "    update_display(Markdown(response), display_id=display_handle.display_id)"
   ]
  },
  {
   "cell_type": "code",
   "execution_count": null,
   "id": "a93706b6-3304-42f6-a85e-51dc4f9f35dd",
   "metadata": {},
   "outputs": [],
   "source": []
  },
  {
   "cell_type": "code",
   "execution_count": null,
   "id": "35e288b7-b9c0-4e05-b7f5-ec6d42d8b9d4",
   "metadata": {},
   "outputs": [],
   "source": []
  }
 ],
 "metadata": {
  "kernelspec": {
   "display_name": "Python 3 (ipykernel)",
   "language": "python",
   "name": "python3"
  },
  "language_info": {
   "codemirror_mode": {
    "name": "ipython",
    "version": 3
   },
   "file_extension": ".py",
   "mimetype": "text/x-python",
   "name": "python",
   "nbconvert_exporter": "python",
   "pygments_lexer": "ipython3",
   "version": "3.11.13"
  }
 },
 "nbformat": 4,
 "nbformat_minor": 5
}
