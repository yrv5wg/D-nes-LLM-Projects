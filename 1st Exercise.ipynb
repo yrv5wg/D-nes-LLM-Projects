{
 "cells": [
  {
   "cell_type": "markdown",
   "id": "09858633-2a0a-4ff4-a8aa-0bae7b552b50",
   "metadata": {},
   "source": [
    "* The Goal of this application of ollama solution is to keep data on my box while checking website content, summerizing it for me"
   ]
  },
  {
   "cell_type": "code",
   "execution_count": 32,
   "id": "53d57d25-0281-41b8-ba43-510004c334a4",
   "metadata": {},
   "outputs": [],
   "source": [
    "# imports\n",
    "\n",
    "import requests\n",
    "from bs4 import BeautifulSoup\n",
    "from IPython.display import Markdown, display\n",
    "import ollama"
   ]
  },
  {
   "cell_type": "code",
   "execution_count": 33,
   "id": "7dc5993e-5309-45ce-a143-ac8c7e27eba0",
   "metadata": {},
   "outputs": [],
   "source": [
    "# Constants\n",
    "MODEL = \"llama3.2\""
   ]
  },
  {
   "cell_type": "code",
   "execution_count": 34,
   "id": "05bbd064-b019-4c4f-833f-d02078e897d2",
   "metadata": {},
   "outputs": [],
   "source": [
    "# A class to represent a Webpage\n",
    "\n",
    "class Website:\n",
    "    \"\"\"\n",
    "    A utility class to represent a Website that we have scraped\n",
    "    \"\"\"\n",
    "    url: str\n",
    "    title: str\n",
    "    text: str\n",
    "\n",
    "    def __init__(self, url):\n",
    "        \"\"\"\n",
    "        Create this Website object from the given url using the BeautifulSoup library\n",
    "        \"\"\"\n",
    "        self.url = url\n",
    "        response = requests.get(url)\n",
    "        soup = BeautifulSoup(response.content, 'html.parser')\n",
    "        self.title = soup.title.string if soup.title else \"No title found\"\n",
    "        for irrelevant in soup.body([\"script\", \"style\", \"img\", \"input\"]):\n",
    "            irrelevant.decompose()\n",
    "        self.text = soup.body.get_text(separator=\"\\n\", strip=True)"
   ]
  },
  {
   "cell_type": "code",
   "execution_count": 35,
   "id": "2d8bd733-6993-4168-8f23-ab06087bbc3f",
   "metadata": {},
   "outputs": [
    {
     "name": "stdout",
     "output_type": "stream",
     "text": [
      "Home - Edward Donner\n",
      "Home\n",
      "Connect Four\n",
      "Outsmart\n",
      "An arena that pits LLMs against each other in a battle of diplomacy and deviousness\n",
      "About\n",
      "Posts\n",
      "Well, hi there.\n",
      "I’m Ed. I like writing code and experimenting with LLMs, and hopefully you’re here because you do too. I also enjoy DJing (but I’m badly out of practice), amateur electronic music production (\n",
      "very\n",
      "amateur) and losing myself in\n",
      "Hacker News\n",
      ", nodding my head sagely to things I only half understand.\n",
      "I’m the co-founder and CTO of\n",
      "Nebula.io\n",
      ". We’re applying AI to a field where it can make a massive, positive impact: helping people discover their potential and pursue their reason for being. Recruiters use our product today to source, understand, engage and manage talent. I’m previously the founder and CEO of AI startup untapt,\n",
      "acquired in 2021\n",
      ".\n",
      "We work with groundbreaking, proprietary LLMs verticalized for talent, we’ve\n",
      "patented\n",
      "our matching model, and our award-winning platform has happy customers and tons of press coverage.\n",
      "Connect\n",
      "with me for more!\n",
      "September 15, 2025\n",
      "AI in Production: Gen AI and Agentic AI on AWS at scale\n",
      "May 28, 2025\n",
      "Connecting my courses – become an LLM expert and leader\n",
      "May 18, 2025\n",
      "2025 AI Executive Briefing\n",
      "April 21, 2025\n",
      "The Complete Agentic AI Engineering Course\n",
      "Navigation\n",
      "Home\n",
      "Connect Four\n",
      "Outsmart\n",
      "An arena that pits LLMs against each other in a battle of diplomacy and deviousness\n",
      "About\n",
      "Posts\n",
      "Get in touch\n",
      "ed [at] edwarddonner [dot] com\n",
      "www.edwarddonner.com\n",
      "Follow me\n",
      "LinkedIn\n",
      "Twitter\n",
      "Facebook\n",
      "Subscribe to newsletter\n",
      "Type your email…\n",
      "Subscribe\n"
     ]
    }
   ],
   "source": [
    "# Let's try one out\n",
    "\n",
    "ed = Website(\"https://edwarddonner.com\")\n",
    "print(ed.title)\n",
    "print(ed.text)"
   ]
  },
  {
   "cell_type": "code",
   "execution_count": 36,
   "id": "5e4cc6be-233b-43ee-b8d7-52cf724cc99c",
   "metadata": {},
   "outputs": [],
   "source": [
    "# Define our system prompt - you can experiment with this later, changing the last sentence to 'Respond in markdown in Spanish.\"\n",
    "\n",
    "system_prompt = \"You are a data scientist that analyzes the contents of a website \\\n",
    "and provides a short summary froma data science perspective on what models,\\\n",
    "model sturcture and data was used for any given research, and provide actionable solution where applicable.\\\n",
    "Your overall aim is the create something better than what the author suggested\\\n",
    "ignoring text that might be navigation related. \\\n",
    "Respond in markdown.\""
   ]
  },
  {
   "cell_type": "code",
   "execution_count": 37,
   "id": "8012d042-dc05-4c2e-85c3-ee304f7c0ae5",
   "metadata": {},
   "outputs": [],
   "source": [
    "# A function that writes a User Prompt that asks for summaries of websites:\n",
    "\n",
    "def user_prompt_for(website):\n",
    "    user_prompt = f\"You are looking at a website titled {website.title}\"\n",
    "    user_prompt += \"The contents of this website is as follows; \\\n",
    "please provide a short summary of this website in markdown. \\\n",
    "If it includes news or announcements, then summarize these too.\\n\\n\"\n",
    "    user_prompt += website.text\n",
    "    return user_prompt"
   ]
  },
  {
   "cell_type": "code",
   "execution_count": 38,
   "id": "5b118696-3824-4d5b-809a-4d8af58ea537",
   "metadata": {},
   "outputs": [],
   "source": [
    "# See how this function creates exactly the format above\n",
    "\n",
    "def messages_for(website):\n",
    "    return [\n",
    "        {\"role\": \"system\", \"content\": system_prompt},\n",
    "        {\"role\": \"user\", \"content\": user_prompt_for(website)}\n",
    "    ]"
   ]
  },
  {
   "cell_type": "code",
   "execution_count": 39,
   "id": "5b17f88f-b409-4e27-be80-c41d466a60af",
   "metadata": {},
   "outputs": [],
   "source": [
    "# And now: call the Ollama function instead of OpenAI\n",
    "\n",
    "def summarize(url):\n",
    "    website = Website(url)\n",
    "    messages = messages_for(website)\n",
    "    response = ollama.chat(model=MODEL, messages=messages)\n",
    "    return response['message']['content']"
   ]
  },
  {
   "cell_type": "code",
   "execution_count": 40,
   "id": "afb087a2-0ca5-4091-b13c-8fece4fe8100",
   "metadata": {},
   "outputs": [],
   "source": [
    "# A function to display this nicely in the Jupyter output, using markdown\n",
    "\n",
    "def display_summary(url):\n",
    "    summary = summarize(url)\n",
    "    display(Markdown(summary))"
   ]
  },
  {
   "cell_type": "code",
   "execution_count": 41,
   "id": "afccccdc-abd1-4a67-8c6c-dcafeb37a949",
   "metadata": {},
   "outputs": [
    {
     "data": {
      "text/markdown": [
       "**Summary of the Website**\n",
       "\n",
       "The website provides a practical guide to tackling clustering problems in machine learning. The author, Edwin Vivek, presents a step-by-step approach to effectively apply clustering techniques.\n",
       "\n",
       "**Key Points**\n",
       "\n",
       "* Clustering is an unsupervised learning technique used to uncover hidden patterns in data.\n",
       "* The key success criteria for clustering models include:\n",
       "\t+ Is the model interpretable?\n",
       "\t+ Does the clustering output provide value to the business?\n",
       "\t+ Has the process revealed new insights or uncovered patterns in the data that were previously unknown?\n",
       "* The article uses the popular \"Mall Customer Segmentation\" dataset from Kaggle to explore how clustering techniques can be applied to segment customers based on their shopping behavior.\n",
       "\n",
       "**Methodology**\n",
       "\n",
       "1. **Understanding the Domain and Problem Context**: Frame the problem correctly, define the objective clearly, and pin down the unit of analysis.\n",
       "2. **Data Preparation**: Handle missing values, skewness, outliers, feature scaling/encoding, and selecting the right features.\n",
       "3. **Choosing the Right Clustering Algorithm**: Visualize the data using dimensionality reduction tools like PCA, t-SNE, or UMAP to get a feel for the distribution and shape of clusters.\n",
       "4. **Evaluating Clusters**: Use visualization, evaluation metrics (e.g., Elbow Method, Silhouette Score, Davies-Bouldin Index), and business interpretability to decide what works best for the dataset.\n",
       "5. **Interpreting Clusters**: Conduct statistical analysis, visual exploration, cluster size balance, feature-level insights, and create labels based on traits.\n",
       "\n",
       "**Results**\n",
       "\n",
       "The author performs clustering using K-Means with 3 clusters initially but finds that it doesn't provide meaningful results. After re-running the model with different numbers of clusters (5 and 7), they observe:\n",
       "\n",
       "* Silhouette scores range from 0.41 to 0.42, indicating moderate separation.\n",
       "* Some clusters have poor cluster separation or high variability.\n",
       "* The author identifies potential churn risk in Cluster 1.\n",
       "\n",
       "**Actionable Insights**\n",
       "\n",
       "Based on the analysis, the author recommends:\n",
       "\n",
       "* Targeted marketing strategies to minimize customer churn and reduce overall churn rates.\n",
       "* Upselling campaigns for high-spending customers.\n",
       "* Executing targeted promotions.\n",
       "\n",
       "**Conclusion**\n",
       "\n",
       "Clustering is an art and science that requires careful preprocessing, the right analytical tools, and domain knowledge. The article provides a practical guide to tackling clustering problems in machine learning, highlighting the importance of interpretation and actionable strategies."
      ],
      "text/plain": [
       "<IPython.core.display.Markdown object>"
      ]
     },
     "metadata": {},
     "output_type": "display_data"
    }
   ],
   "source": [
    "display_summary(\"https://medium.com/@nedwinvivek/a-practical-guide-to-tackling-clustering-problems-in-machine-learning-6cf39dff2c36\")"
   ]
  },
  {
   "cell_type": "code",
   "execution_count": null,
   "id": "a02e9c85-6d01-4841-85bc-0298e61d3037",
   "metadata": {},
   "outputs": [],
   "source": []
  }
 ],
 "metadata": {
  "kernelspec": {
   "display_name": "Python 3 (ipykernel)",
   "language": "python",
   "name": "python3"
  },
  "language_info": {
   "codemirror_mode": {
    "name": "ipython",
    "version": 3
   },
   "file_extension": ".py",
   "mimetype": "text/x-python",
   "name": "python",
   "nbconvert_exporter": "python",
   "pygments_lexer": "ipython3",
   "version": "3.11.13"
  }
 },
 "nbformat": 4,
 "nbformat_minor": 5
}
